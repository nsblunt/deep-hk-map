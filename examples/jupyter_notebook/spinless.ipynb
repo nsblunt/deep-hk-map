{
 "cells": [
  {
   "cell_type": "markdown",
   "metadata": {},
   "source": [
    "# Learning a density-to-wave-function map\n",
    "\n",
    "In this notebook, we will train a network to learn the mapping from the density to the wave function for a simple lattice system. In particular, we take a $6$-site spinless Hubbard model with periodic boundary conditions.\n",
    "\n",
    "This is mapping is known to exist from the Hohenberg-Kohn theorem, which says that the external potential of a system can be determined (up to an overall constant) from the density, and therefore the wave function can be uniquely determined from the density too.\n",
    "\n",
    "We generate training data points by applying random external potentials to the lattice model. This follows the approach described in the following paper:\n",
    "\n",
    "*Javier Robledo Moreno, Giuseppe Carleo, Antoine Georges,\n",
    "Physical Review Letters **125**, 076402 (2020)*\n",
    "\n",
    "For this simple example we will train for $90$ epochs, with $128$ data points per batch, and $6400$ training data points in total (with one potential used to generate each data point):"
   ]
  },
  {
   "cell_type": "code",
   "execution_count": 1,
   "metadata": {},
   "outputs": [],
   "source": [
    "nepochs = 90\n",
    "batch_size = 128\n",
    "npot_train = 6400"
   ]
  },
  {
   "cell_type": "markdown",
   "metadata": {},
   "source": [
    "We set the PyTorch random number generator seed, to help with reproducibility of results:"
   ]
  },
  {
   "cell_type": "code",
   "execution_count": 2,
   "metadata": {},
   "outputs": [
    {
     "data": {
      "text/plain": [
       "<torch._C.Generator at 0x10734cf30>"
      ]
     },
     "execution_count": 2,
     "metadata": {},
     "output_type": "execute_result"
    }
   ],
   "source": [
    "import torch\n",
    "torch.manual_seed(7)"
   ]
  },
  {
   "cell_type": "markdown",
   "metadata": {},
   "source": [
    "We will begin by creating the Hamiltonian object. We take a spinless Hubbard model system with $6$ sites, and $U/t=4$. In general, we have the option to allow all particle-number sectors to be considered simultaneously, by setting ```fixed_nparticles=False```. Here, we instead fix the system at half-filling (```nparticles=3```). ```max_V``` sepcifies the maximum absolute random potential value applied to each site. So here, the potential on each site can vary between $-0.5$ and $+0.5$."
   ]
  },
  {
   "cell_type": "code",
   "execution_count": 3,
   "metadata": {},
   "outputs": [],
   "source": [
    "from deep_hk import hamiltonian\n",
    "system = hamiltonian.SpinlessHubbard(\n",
    "    U=4.0,\n",
    "    t=1.0,\n",
    "    mu=4.0,\n",
    "    max_V=0.5,\n",
    "    nsites=6,\n",
    "    fixed_nparticles=True,\n",
    "    nparticles=3,\n",
    "    seed=9)"
   ]
  },
  {
   "cell_type": "markdown",
   "metadata": {},
   "source": [
    "We then need to construct the system object, which will create the Hamiltonian itself. The Hamiltonian is stored in a sparse SciPy CSR format. The ```construct()``` call will create the Hamiltonian without an external potential applied; external potentials are applied later as the training data is generated."
   ]
  },
  {
   "cell_type": "code",
   "execution_count": 4,
   "metadata": {},
   "outputs": [],
   "source": [
    "system.construct()"
   ]
  },
  {
   "cell_type": "markdown",
   "metadata": {},
   "source": [
    "Now we will generate the training data. As noted above, we want to learn the wave function from the density. Therefore, we will be passing the density into the input of the network, and obtaining the wave function from its output. So we set ```input_type='density'``` and ```output_type='wave_function'```. It is also possible to save this data in CSV format and load it later using the path specified, which we do not do here."
   ]
  },
  {
   "cell_type": "code",
   "execution_count": 5,
   "metadata": {},
   "outputs": [],
   "source": [
    "from deep_hk import data\n",
    "data_train = data.Data(\n",
    "    system=system,\n",
    "    npot=npot_train,\n",
    "    input_type='density',\n",
    "    output_type='wave_function',\n",
    "    load=False,\n",
    "    save=False,\n",
    "    path='data_train.csv')"
   ]
  },
  {
   "cell_type": "markdown",
   "metadata": {},
   "source": [
    "Next we focus on creating the network object itself. We will use a network of fully-connected layers, using the ```LinearNet``` class. The ```__init__``` function for this class takes a list of layers to be applied, which should be created using the ```create_linear_layers``` function:"
   ]
  },
  {
   "cell_type": "code",
   "execution_count": 6,
   "metadata": {},
   "outputs": [],
   "source": [
    "from deep_hk import networks\n",
    "layers_list = networks.create_linear_layers(\n",
    "    ninput=data_train.ninput,\n",
    "    num_hidden=[32, 64, 128],\n",
    "    noutput=data_train.noutput,\n",
    "    wf_output=True)"
   ]
  },
  {
   "cell_type": "markdown",
   "metadata": {},
   "source": [
    "The ```num_hidden``` argument can be used to specify the number of hidden layers, and the number of units in each. Here we take $3$ hidden layers of size $32$, $64$ and $128$. Specifying ```wf_output=True``` tells the function that the output layer should be normalized to unity, as appropriate for a wave function object.\n",
    "\n",
    "We can then use this list to create the network object itself, using a ReLU activation function in this case:"
   ]
  },
  {
   "cell_type": "code",
   "execution_count": 7,
   "metadata": {},
   "outputs": [],
   "source": [
    "net = networks.LinearNet(layers_list, 'relu')"
   ]
  },
  {
   "cell_type": "markdown",
   "metadata": {},
   "source": [
    "We next specify a loss function to be used in the optimization. Our goal is for the output to represent the exact wave function for the applied external potential (up to an overall sign factor). An appropriate loss function here is the infidelity, defined as:\n",
    "\n",
    "$I(\\psi_p, \\psi_e) = 1 - |\\langle \\psi_p | \\psi_e \\rangle|$\n",
    "\n",
    "where $|\\psi_p\\rangle$ is the predicted wave function, and $|\\psi_e\\rangle$ is the exact wave function. This loss function is defined in the train module:"
   ]
  },
  {
   "cell_type": "code",
   "execution_count": 8,
   "metadata": {},
   "outputs": [],
   "source": [
    "from deep_hk import train\n",
    "criterion = train.Infidelity()"
   ]
  },
  {
   "cell_type": "markdown",
   "metadata": {},
   "source": [
    "Lastly, we use Adam as the optimizer:"
   ]
  },
  {
   "cell_type": "code",
   "execution_count": 9,
   "metadata": {},
   "outputs": [],
   "source": [
    "import torch.optim as optim\n",
    "optimizer = optim.Adam(\n",
    "  net.parameters(),\n",
    "  lr=0.001)"
   ]
  },
  {
   "cell_type": "markdown",
   "metadata": {},
   "source": [
    "And we can finally train the network:"
   ]
  },
  {
   "cell_type": "code",
   "execution_count": 10,
   "metadata": {
    "scrolled": true
   },
   "outputs": [
    {
     "name": "stdout",
     "output_type": "stream",
     "text": [
      "# 1. Epoch  2. Train. Loss   3. Epoch time\n",
      "         0      0.19471329      0.09887409\n",
      "         1      0.00358682      0.10485697\n",
      "         2      0.00114949      0.09881711\n",
      "         3      0.00096510      0.09864187\n",
      "         4      0.00090116      0.09634709\n",
      "         5      0.00087220      0.09803987\n",
      "         6      0.00085578      0.09857202\n",
      "         7      0.00084448      0.09709287\n",
      "         8      0.00083563      0.09751606\n",
      "         9      0.00082810      0.09899807\n",
      "        10      0.00082132      0.09993005\n",
      "        11      0.00081491      0.09793901\n",
      "        12      0.00080883      0.10086894\n",
      "        13      0.00080293      0.10788679\n",
      "        14      0.00079702      0.10538006\n",
      "        15      0.00079077      0.10733795\n",
      "        16      0.00078387      0.14516115\n",
      "        17      0.00077608      0.14026713\n",
      "        18      0.00076710      0.12279987\n",
      "        19      0.00075686      0.12073922\n",
      "        20      0.00074540      0.11109877\n",
      "        21      0.00073252      0.10850787\n",
      "        22      0.00071857      0.10418987\n",
      "        23      0.00070308      0.10447907\n",
      "        24      0.00068534      0.10551691\n",
      "        25      0.00066375      0.10348487\n",
      "        26      0.00063582      0.10372901\n",
      "        27      0.00060274      0.10291910\n",
      "        28      0.00056682      0.09712505\n",
      "        29      0.00052664      0.09835124\n",
      "        30      0.00048254      0.10122299\n",
      "        31      0.00043531      0.09919381\n",
      "        32      0.00038885      0.09775400\n",
      "        33      0.00034771      0.10020828\n",
      "        34      0.00032105      0.09900808\n",
      "        35      0.00029213      0.09814405\n",
      "        36      0.00027858      0.10047626\n",
      "        37      0.00026742      0.09940505\n",
      "        38      0.00025996      0.09986901\n",
      "        39      0.00025581      0.09740710\n",
      "        40      0.00025280      0.10805488\n",
      "        41      0.00024968      0.10217190\n",
      "        42      0.00024734      0.09851909\n",
      "        43      0.00024555      0.09939098\n",
      "        44      0.00024156      0.09791493\n",
      "        45      0.00023931      0.09779191\n",
      "        46      0.00023698      0.10252023\n",
      "        47      0.00023443      0.09948683\n",
      "        48      0.00023160      0.11633492\n",
      "        49      0.00022870      0.09935808\n",
      "        50      0.00022576      0.10110426\n",
      "        51      0.00022293      0.10014105\n",
      "        52      0.00022025      0.10119295\n",
      "        53      0.00021767      0.10043120\n",
      "        54      0.00021588      0.10007596\n",
      "        55      0.00021525      0.10015011\n",
      "        56      0.00021108      0.09813285\n",
      "        57      0.00020305      0.10087824\n",
      "        58      0.00019782      0.10072398\n",
      "        59      0.00019356      0.09943295\n",
      "        60      0.00018825      0.09932399\n",
      "        61      0.00018169      0.09997082\n",
      "        62      0.00017481      0.09799981\n",
      "        63      0.00016841      0.10031366\n",
      "        64      0.00015998      0.09956408\n",
      "        65      0.00015202      0.09984612\n",
      "        66      0.00014278      0.09912682\n",
      "        67      0.00013699      0.09958673\n",
      "        68      0.00013163      0.10051489\n",
      "        69      0.00012672      0.09866285\n",
      "        70      0.00012097      0.09904599\n",
      "        71      0.00011451      0.09849095\n",
      "        72      0.00010480      0.09765291\n",
      "        73      0.00009781      0.10041404\n",
      "        74      0.00009521      0.10001087\n",
      "        75      0.00008833      0.09931302\n",
      "        76      0.00008641      0.09900379\n",
      "        77      0.00008043      0.10080910\n",
      "        78      0.00007693      0.10098600\n",
      "        79      0.00007065      0.09893608\n",
      "        80      0.00006473      0.09837508\n",
      "        81      0.00006267      0.09758830\n",
      "        82      0.00006136      0.09854293\n",
      "        83      0.00005830      0.10005498\n",
      "        84      0.00005582      0.09892821\n",
      "        85      0.00005433      0.09977865\n",
      "        86      0.00005497      0.09960198\n",
      "        87      0.00005056      0.09930801\n",
      "        88      0.00004729      0.10109687\n",
      "        89      0.00004329      0.09797621\n",
      "\n"
     ]
    }
   ],
   "source": [
    "train.train(\n",
    "    net=net,\n",
    "    data_train=data_train,\n",
    "    data_validation=None,\n",
    "    criterion=criterion,\n",
    "    optimizer=optimizer,\n",
    "    nepochs=nepochs,\n",
    "    batch_size=batch_size,\n",
    "    save_net=False)"
   ]
  },
  {
   "cell_type": "markdown",
   "metadata": {},
   "source": [
    "The final loss value is around $5\\times 10^{-5}$, indicating an overlap of around $0.99995$ between the predicted wave functions and exact wave functions on average.\n",
    "\n",
    "We can then generate some test data to assess the accuracy of the model in more detail:"
   ]
  },
  {
   "cell_type": "code",
   "execution_count": 11,
   "metadata": {},
   "outputs": [],
   "source": [
    "npot_test = 6400\n",
    "data_test = data.Data(\n",
    "    system=system,\n",
    "    npot=npot_test,\n",
    "    input_type='density',\n",
    "    output_type='wave_function',\n",
    "    load=False,\n",
    "    save=False,\n",
    "    path='data_test.csv')"
   ]
  },
  {
   "cell_type": "markdown",
   "metadata": {},
   "source": [
    "We choose to look at the test data point with index $1$ (```data_label=1```). We can plot the random potential generated in this case:"
   ]
  },
  {
   "cell_type": "code",
   "execution_count": 12,
   "metadata": {},
   "outputs": [
    {
     "data": {
      "image/png": "[encoded data removed]",
      "text/plain": [
       "<Figure size 432x288 with 1 Axes>"
      ]
     },
     "metadata": {
      "needs_background": "light"
     },
     "output_type": "display_data"
    }
   ],
   "source": [
    "import matplotlib.pyplot as plt\n",
    "data_label = 1\n",
    "nsites = 6\n",
    "site_labels = range(nsites)\n",
    "plt.plot(site_labels, data_test.potentials[data_label])\n",
    "plt.xlabel('Site label')\n",
    "plt.ylabel('External potential')\n",
    "plt.show()"
   ]
  },
  {
   "cell_type": "markdown",
   "metadata": {},
   "source": [
    "Passing the test densities through the network to obtain the predicted wave function components:"
   ]
  },
  {
   "cell_type": "code",
   "execution_count": 13,
   "metadata": {},
   "outputs": [],
   "source": [
    "outputs = net(data_test.inputs)\n",
    "exact = abs(data_test.labels[data_label].detach())\n",
    "predicted = abs(outputs[data_label].detach())"
   ]
  },
  {
   "cell_type": "markdown",
   "metadata": {},
   "source": [
    "We can then plot the predicted wave function components against the exact components for the chosen data point, and see good agreement."
   ]
  },
  {
   "cell_type": "code",
   "execution_count": 14,
   "metadata": {},
   "outputs": [
    {
     "data": {
      "image/png": "[encoded data removed]",
      "text/plain": [
       "<Figure size 432x288 with 1 Axes>"
      ]
     },
     "metadata": {
      "needs_background": "light"
     },
     "output_type": "display_data"
    }
   ],
   "source": [
    "plt.xscale('log')\n",
    "plt.yscale('log')\n",
    "plt.xlim([2e-2,1])\n",
    "plt.ylim([2e-2,1])\n",
    "plt.plot([2e-2,1], [2e-2,1], linestyle='--')\n",
    "plt.plot(exact, predicted, linestyle='None', marker='x')\n",
    "plt.xlabel('Exact wave function components')\n",
    "plt.ylabel('Predicted wave function components')\n",
    "plt.show()"
   ]
  },
  {
   "cell_type": "markdown",
   "metadata": {},
   "source": [
    "Lastly, we can look at the distribution of the loss values for the test data. Applying the network to each data point individually:"
   ]
  },
  {
   "cell_type": "code",
   "execution_count": 15,
   "metadata": {},
   "outputs": [],
   "source": [
    "losses = []\n",
    "for i in range(npot_test):\n",
    "  loss_test = criterion(outputs[i:i+1,:], data_test.labels[i:i+1,:])\n",
    "  losses.append(loss_test.detach().item())"
   ]
  },
  {
   "cell_type": "markdown",
   "metadata": {},
   "source": [
    "We can then plot the distribution:"
   ]
  },
  {
   "cell_type": "code",
   "execution_count": 16,
   "metadata": {
    "scrolled": false
   },
   "outputs": [
    {
     "data": {
      "image/png": "[encoded data removed]",
      "text/plain": [
       "<Figure size 432x288 with 1 Axes>"
      ]
     },
     "metadata": {
      "needs_background": "light"
     },
     "output_type": "display_data"
    }
   ],
   "source": [
    "import numpy as np\n",
    "bins = np.linspace(0, max(losses), 30)\n",
    "plt.xlim([0, max(losses)])\n",
    "plt.hist(losses, bins=bins, edgecolor='black')\n",
    "plt.xlabel('Wave function infidelity')\n",
    "plt.ylabel('Count')\n",
    "plt.locator_params(nbins=5)\n",
    "plt.show()"
   ]
  },
  {
   "cell_type": "markdown",
   "metadata": {},
   "source": [
    "An example is given for a spinned Hubbard model on a larger lattice in the examples/hubbard directory."
   ]
  }
 ],
 "metadata": {
  "kernelspec": {
   "display_name": "Python 3",
   "language": "python",
   "name": "python3"
  },
  "language_info": {
   "codemirror_mode": {
    "name": "ipython",
    "version": 3
   },
   "file_extension": ".py",
   "mimetype": "text/x-python",
   "name": "python",
   "nbconvert_exporter": "python",
   "pygments_lexer": "ipython3",
   "version": "3.9.2"
  }
 },
 "nbformat": 4,
 "nbformat_minor": 4
}
