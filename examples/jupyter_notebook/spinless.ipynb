{
 "cells": [
  {
   "cell_type": "markdown",
   "metadata": {},
   "source": [
    "# Learning a density-to-wave-function map\n",
    "\n",
    "In this notebook, we will train a network to learn the mapping from the density to the wave function for a simple lattice system. In particular, we take a $6$-site spinless Hubbard model with periodic boundary conditions.\n",
    "\n",
    "This is mapping is known to exist from the first Hohenberg-Kohn theorem, which says that the external potential of a system can be determined (up to an overall constant) from the density, and therefore the wave function can be uniquely determined from the density too.\n",
    "\n",
    "We generate training data points by applying random external potentials to the lattice model. This follows the approach described in the following paper:\n",
    "\n",
    "*Javier Robledo Moreno, Giuseppe Carleo, Antoine Georges,\n",
    "Physical Review Letters **125**, 076402 (2020)*\n",
    "\n",
    "For this simple example we will train for $100$ epochs, with $128$ data points per batch, and $6400$ training data points in total:"
   ]
  },
  {
   "cell_type": "code",
   "execution_count": 1,
   "metadata": {},
   "outputs": [],
   "source": [
    "nepochs = 100\n",
    "batch_size = 128\n",
    "ndata_train = 6400"
   ]
  },
  {
   "cell_type": "markdown",
   "metadata": {},
   "source": [
    "We set the PyTorch random number generator seed, to help with reproducibility of results:"
   ]
  },
  {
   "cell_type": "code",
   "execution_count": 2,
   "metadata": {},
   "outputs": [
    {
     "data": {
      "text/plain": [
       "<torch._C.Generator at 0x7fdd940908b0>"
      ]
     },
     "execution_count": 2,
     "metadata": {},
     "output_type": "execute_result"
    }
   ],
   "source": [
    "import torch\n",
    "torch.manual_seed(7)"
   ]
  },
  {
   "cell_type": "markdown",
   "metadata": {},
   "source": [
    "We will begin by creating the Hamiltonian object. We take a spinless Hubbard model system with $6$ sites, and $U/t=4$. In general, we have the option to allow all particle-number sectors to be considered simultaneously, by setting ```fixed_nparticles=False```. Here, we instead fix the system at half-filling (```nparticles=3```). ```max_V``` sepcifies the maximum absolute random potential value applied to each site. So here, the potential on each site can vary between $-0.5$ and $+0.5$."
   ]
  },
  {
   "cell_type": "code",
   "execution_count": 3,
   "metadata": {},
   "outputs": [],
   "source": [
    "from deep_hk import hamiltonian\n",
    "system = hamiltonian.SpinlessHubbard(\n",
    "    U=4.0,\n",
    "    t=1.0,\n",
    "    mu=4.0,\n",
    "    max_V=0.5,\n",
    "    nsites=6,\n",
    "    fixed_nparticles=True,\n",
    "    nparticles=3,\n",
    "    seed=9)"
   ]
  },
  {
   "cell_type": "markdown",
   "metadata": {},
   "source": [
    "We then need to construct the system object, which will create the Hamiltonian itself. The Hamiltonian is stored in a sparse SciPy CSR format. The ```construct()``` call will create the Hamiltonian without an external potential applied; external potentials are applied later as the training data is generated."
   ]
  },
  {
   "cell_type": "code",
   "execution_count": 4,
   "metadata": {},
   "outputs": [],
   "source": [
    "system.construct()"
   ]
  },
  {
   "cell_type": "markdown",
   "metadata": {},
   "source": [
    "Now we will generate the training data. As noted above, we want to learn the wave function from the density. Therefore, we will be passing the density into the input of the network, and obtaining the wave function from its output. So we set ```input_type='density'``` and ```output_type='wave_function'```. It is also possible to save this data in CSV format and load it later using the path specified, which we do not do here."
   ]
  },
  {
   "cell_type": "code",
   "execution_count": 5,
   "metadata": {},
   "outputs": [],
   "source": [
    "from deep_hk import data\n",
    "data_train = data.Data(\n",
    "    system=system,\n",
    "    ndata=ndata_train,\n",
    "    input_type='density',\n",
    "    output_type='wave_function',\n",
    "    load=False,\n",
    "    save=False,\n",
    "    path='data_train.csv')"
   ]
  },
  {
   "cell_type": "markdown",
   "metadata": {},
   "source": [
    "Next we focus on creating the network object itself. We will use a network of fully-connected layers, using the ```LinearNet``` class. The ```__init__``` function for this class takes a list of layers to be applied, which should be created using the ```create_linear_layers``` function:"
   ]
  },
  {
   "cell_type": "code",
   "execution_count": 6,
   "metadata": {},
   "outputs": [],
   "source": [
    "from deep_hk import networks\n",
    "layers_list = networks.create_linear_layers(\n",
    "    ninput=data_train.ninput,\n",
    "    num_hidden=[32, 64, 128],\n",
    "    noutput=data_train.noutput,\n",
    "    wf_output=True)"
   ]
  },
  {
   "cell_type": "markdown",
   "metadata": {},
   "source": [
    "The ```num_hidden``` argument can be used to specify the number of hidden layers, and the number of units in each. Here we take $3$ hidden layers of size $32$, $64$ and $128$. Specifying ```wf_output=True``` tells the function that the output layer should be normalized to unity, as appropriate for a wave function object.\n",
    "\n",
    "We can then use this list to create the network object itself, using a ReLU activation function in this case:"
   ]
  },
  {
   "cell_type": "code",
   "execution_count": 7,
   "metadata": {},
   "outputs": [],
   "source": [
    "net = networks.LinearNet(layers_list, 'relu')"
   ]
  },
  {
   "cell_type": "markdown",
   "metadata": {},
   "source": [
    "We next specify a loss function to be used in the optimization. Our goal is for the output to represent the exact wave function for the applied external potential (up to an overall sign factor). An appropriate loss function here is the infidelity, defined as:\n",
    "\n",
    "$I(\\psi_p, \\psi_e) = 1 - |\\langle \\psi_p | \\psi_e \\rangle|$\n",
    "\n",
    "where $|\\psi_p\\rangle$ is the predicted wave function, and $|\\psi_e\\rangle$ is the exact wave function. This loss function is defined in the train module:"
   ]
  },
  {
   "cell_type": "code",
   "execution_count": 8,
   "metadata": {},
   "outputs": [],
   "source": [
    "from deep_hk import train\n",
    "criterion = train.Infidelity()"
   ]
  },
  {
   "cell_type": "markdown",
   "metadata": {},
   "source": [
    "Lastly, we use Adam as the optimizer:"
   ]
  },
  {
   "cell_type": "code",
   "execution_count": 9,
   "metadata": {},
   "outputs": [],
   "source": [
    "import torch.optim as optim\n",
    "optimizer = optim.Adam(\n",
    "  net.parameters(),\n",
    "  lr=0.001)"
   ]
  },
  {
   "cell_type": "markdown",
   "metadata": {},
   "source": [
    "And we can finally train the network:"
   ]
  },
  {
   "cell_type": "code",
   "execution_count": 10,
   "metadata": {
    "scrolled": true
   },
   "outputs": [
    {
     "name": "stdout",
     "output_type": "stream",
     "text": [
      "# 1. Epoch  2. Train. Loss\n",
      "         0      0.18359140\n",
      "         1      0.00343061\n",
      "         2      0.00114083\n",
      "         3      0.00095585\n",
      "         4      0.00089445\n",
      "         5      0.00086765\n",
      "         6      0.00085289\n",
      "         7      0.00084273\n",
      "         8      0.00083481\n",
      "         9      0.00082817\n",
      "        10      0.00082213\n",
      "        11      0.00081641\n",
      "        12      0.00081072\n",
      "        13      0.00080503\n",
      "        14      0.00079911\n",
      "        15      0.00079283\n",
      "        16      0.00078614\n",
      "        17      0.00077876\n",
      "        18      0.00077060\n",
      "        19      0.00076154\n",
      "        20      0.00075149\n",
      "        21      0.00074030\n",
      "        22      0.00072712\n",
      "        23      0.00071078\n",
      "        24      0.00069249\n",
      "        25      0.00067262\n",
      "        26      0.00064983\n",
      "        27      0.00062478\n",
      "        28      0.00060008\n",
      "        29      0.00057360\n",
      "        30      0.00054945\n",
      "        31      0.00052948\n",
      "        32      0.00051160\n",
      "        33      0.00049388\n",
      "        34      0.00047724\n",
      "        35      0.00046024\n",
      "        36      0.00044017\n",
      "        37      0.00041862\n",
      "        38      0.00039655\n",
      "        39      0.00037101\n",
      "        40      0.00034111\n",
      "        41      0.00031294\n",
      "        42      0.00028615\n",
      "        43      0.00026955\n",
      "        44      0.00025752\n",
      "        45      0.00024986\n",
      "        46      0.00024289\n",
      "        47      0.00023762\n",
      "        48      0.00023307\n",
      "        49      0.00022904\n",
      "        50      0.00022555\n",
      "        51      0.00022223\n",
      "        52      0.00021882\n",
      "        53      0.00021519\n",
      "        54      0.00021128\n",
      "        55      0.00020690\n",
      "        56      0.00020203\n",
      "        57      0.00019651\n",
      "        58      0.00019041\n",
      "        59      0.00018388\n",
      "        60      0.00017727\n",
      "        61      0.00016945\n",
      "        62      0.00015934\n",
      "        63      0.00015094\n",
      "        64      0.00014591\n",
      "        65      0.00014095\n",
      "        66      0.00012540\n",
      "        67      0.00011561\n",
      "        68      0.00011252\n",
      "        69      0.00010566\n",
      "        70      0.00009894\n",
      "        71      0.00009410\n",
      "        72      0.00008744\n",
      "        73      0.00008335\n",
      "        74      0.00007742\n",
      "        75      0.00007537\n",
      "        76      0.00006919\n",
      "        77      0.00006467\n",
      "        78      0.00006246\n",
      "        79      0.00005628\n",
      "        80      0.00005818\n",
      "        81      0.00005301\n",
      "        82      0.00005268\n",
      "        83      0.00005023\n",
      "        84      0.00004956\n",
      "        85      0.00004731\n",
      "        86      0.00004433\n",
      "        87      0.00003964\n",
      "        88      0.00003834\n",
      "        89      0.00005440\n",
      "        90      0.00003559\n",
      "        91      0.00003475\n",
      "        92      0.00004178\n",
      "        93      0.00004256\n",
      "        94      0.00003757\n",
      "        95      0.00003881\n",
      "        96      0.00003489\n",
      "        97      0.00005116\n",
      "        98      0.00002900\n",
      "        99      0.00003879\n",
      "\n"
     ]
    }
   ],
   "source": [
    "train.train(\n",
    "    net=net,\n",
    "    data_train=data_train,\n",
    "    data_validation=None,\n",
    "    criterion=criterion,\n",
    "    optimizer=optimizer,\n",
    "    nepochs=nepochs,\n",
    "    batch_size=batch_size,\n",
    "    save_net=False)"
   ]
  },
  {
   "cell_type": "markdown",
   "metadata": {},
   "source": [
    "The final loss value is around $3\\times 10^{-5}$, indicating an overlap of around $0.99997$ between the predicted wave functions and exact wave functions on average.\n",
    "\n",
    "We can then generate some test data to assess the accuracy of the model in more detail:"
   ]
  },
  {
   "cell_type": "code",
   "execution_count": 11,
   "metadata": {},
   "outputs": [],
   "source": [
    "ndata_test = 64\n",
    "data_test = data.Data(\n",
    "    system=system,\n",
    "    ndata=ndata_test,\n",
    "    input_type='density',\n",
    "    output_type='wave_function',\n",
    "    load=False,\n",
    "    save=False,\n",
    "    path='data_test.csv')"
   ]
  },
  {
   "cell_type": "markdown",
   "metadata": {},
   "source": [
    "We choose to look at the test data point with index $1$ (```data_label=1```). We can plot the random potential generated in this case:"
   ]
  },
  {
   "cell_type": "code",
   "execution_count": 12,
   "metadata": {},
   "outputs": [
    {
     "data": {
      "image/png": "[encoded data removed]",
      "text/plain": [
       "<Figure size 432x288 with 1 Axes>"
      ]
     },
     "metadata": {
      "needs_background": "light"
     },
     "output_type": "display_data"
    }
   ],
   "source": [
    "import matplotlib.pyplot as plt\n",
    "nsites = 6\n",
    "data_label = 1\n",
    "site_labels = range(nsites)\n",
    "plt.plot(site_labels, data_test.potentials[data_label])\n",
    "plt.xlabel('Site label')\n",
    "plt.ylabel('External potential')\n",
    "plt.show()"
   ]
  },
  {
   "cell_type": "markdown",
   "metadata": {},
   "source": [
    "Passing the test densities through the network to obtain the predicted outputs:"
   ]
  },
  {
   "cell_type": "code",
   "execution_count": 13,
   "metadata": {},
   "outputs": [],
   "source": [
    "outputs = net(data_test.inputs)"
   ]
  },
  {
   "cell_type": "markdown",
   "metadata": {},
   "source": [
    "And converting the data to NumPy format for plotting, and taking the absolute value..."
   ]
  },
  {
   "cell_type": "code",
   "execution_count": 14,
   "metadata": {},
   "outputs": [],
   "source": [
    "exact = abs(data_test.labels[data_label].detach().numpy())\n",
    "predicted = abs(outputs[data_label].detach().numpy())"
   ]
  },
  {
   "cell_type": "markdown",
   "metadata": {},
   "source": [
    "We can finally plot the predicted wave function components against the exact components for the chosen data point, and see good agreement, as expected!"
   ]
  },
  {
   "cell_type": "code",
   "execution_count": 15,
   "metadata": {},
   "outputs": [
    {
     "data": {
      "image/png": "[encoded data removed]",
      "text/plain": [
       "<Figure size 432x288 with 1 Axes>"
      ]
     },
     "metadata": {
      "needs_background": "light"
     },
     "output_type": "display_data"
    }
   ],
   "source": [
    "plt.xlim([0,1])\n",
    "plt.ylim([0,1])\n",
    "plt.plot([0,1], [0,1], linestyle='--')\n",
    "plt.plot(\n",
    "    exact,\n",
    "    predicted,\n",
    "    linestyle='None',\n",
    "    marker='x')\n",
    "plt.xlabel('Exact wave function components')\n",
    "plt.ylabel('Predicted wave function components')\n",
    "plt.show()"
   ]
  }
 ],
 "metadata": {
  "kernelspec": {
   "display_name": "Python 3",
   "language": "python",
   "name": "python3"
  },
  "language_info": {
   "codemirror_mode": {
    "name": "ipython",
    "version": 3
   },
   "file_extension": ".py",
   "mimetype": "text/x-python",
   "name": "python",
   "nbconvert_exporter": "python",
   "pygments_lexer": "ipython3",
   "version": "3.7.6"
  }
 },
 "nbformat": 4,
 "nbformat_minor": 4
}
